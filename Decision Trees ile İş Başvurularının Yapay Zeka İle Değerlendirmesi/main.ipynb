{
 "cells": [
  {
   "cell_type": "code",
   "execution_count": 43,
   "id": "0daa6764-038c-43ce-9bff-5b2101dd239b",
   "metadata": {},
   "outputs": [],
   "source": [
    "import pandas as pd\n",
    "import numpy as np\n",
    "from sklearn import tree"
   ]
  },
  {
   "cell_type": "code",
   "execution_count": 45,
   "id": "45eb5322-340c-4ce1-b30f-3f3a7b030845",
   "metadata": {},
   "outputs": [
    {
     "data": {
      "text/html": [
       "<div>\n",
       "<style scoped>\n",
       "    .dataframe tbody tr th:only-of-type {\n",
       "        vertical-align: middle;\n",
       "    }\n",
       "\n",
       "    .dataframe tbody tr th {\n",
       "        vertical-align: top;\n",
       "    }\n",
       "\n",
       "    .dataframe thead th {\n",
       "        text-align: right;\n",
       "    }\n",
       "</style>\n",
       "<table border=\"1\" class=\"dataframe\">\n",
       "  <thead>\n",
       "    <tr style=\"text-align: right;\">\n",
       "      <th></th>\n",
       "      <th>Deneyim Yili</th>\n",
       "      <th>SuanCalisiyor?</th>\n",
       "      <th>Eski Calistigi Firmalar</th>\n",
       "      <th>Egitim Seviyesi</th>\n",
       "      <th>Top10 Universite?</th>\n",
       "      <th>StajBizdeYaptimi?</th>\n",
       "      <th>IseAlindi</th>\n",
       "    </tr>\n",
       "  </thead>\n",
       "  <tbody>\n",
       "    <tr>\n",
       "      <th>0</th>\n",
       "      <td>11</td>\n",
       "      <td>Y</td>\n",
       "      <td>4</td>\n",
       "      <td>BS</td>\n",
       "      <td>N</td>\n",
       "      <td>N</td>\n",
       "      <td>Y</td>\n",
       "    </tr>\n",
       "    <tr>\n",
       "      <th>1</th>\n",
       "      <td>0</td>\n",
       "      <td>N</td>\n",
       "      <td>0</td>\n",
       "      <td>PhD</td>\n",
       "      <td>Y</td>\n",
       "      <td>Y</td>\n",
       "      <td>Y</td>\n",
       "    </tr>\n",
       "    <tr>\n",
       "      <th>2</th>\n",
       "      <td>5</td>\n",
       "      <td>Y</td>\n",
       "      <td>2</td>\n",
       "      <td>MS</td>\n",
       "      <td>N</td>\n",
       "      <td>Y</td>\n",
       "      <td>Y</td>\n",
       "    </tr>\n",
       "    <tr>\n",
       "      <th>3</th>\n",
       "      <td>3</td>\n",
       "      <td>N</td>\n",
       "      <td>1</td>\n",
       "      <td>BS</td>\n",
       "      <td>N</td>\n",
       "      <td>Y</td>\n",
       "      <td>Y</td>\n",
       "    </tr>\n",
       "    <tr>\n",
       "      <th>4</th>\n",
       "      <td>0</td>\n",
       "      <td>N</td>\n",
       "      <td>0</td>\n",
       "      <td>BS</td>\n",
       "      <td>N</td>\n",
       "      <td>N</td>\n",
       "      <td>N</td>\n",
       "    </tr>\n",
       "  </tbody>\n",
       "</table>\n",
       "</div>"
      ],
      "text/plain": [
       "   Deneyim Yili SuanCalisiyor?  Eski Calistigi Firmalar Egitim Seviyesi  \\\n",
       "0            11              Y                        4              BS   \n",
       "1             0              N                        0             PhD   \n",
       "2             5              Y                        2              MS   \n",
       "3             3              N                        1              BS   \n",
       "4             0              N                        0              BS   \n",
       "\n",
       "  Top10 Universite? StajBizdeYaptimi? IseAlindi  \n",
       "0                 N                 N         Y  \n",
       "1                 Y                 Y         Y  \n",
       "2                 N                 Y         Y  \n",
       "3                 N                 Y         Y  \n",
       "4                 N                 N         N  "
      ]
     },
     "execution_count": 45,
     "metadata": {},
     "output_type": "execute_result"
    }
   ],
   "source": [
    "df = pd.read_csv(\"DecisionTreesClassificationDataSet.csv\")\n",
    "df.head()"
   ]
  },
  {
   "cell_type": "markdown",
   "id": "0c685a26-fbdd-40f8-abca-b71d9b32ca0d",
   "metadata": {},
   "source": [
    "\n",
    "#scikit-learn kütüphanesi decision tree'lerin düzgün çalışması için herşeyin rakamlsal olmasını bekliyor bu nedenle veri setimizdeki tüm Y ve N değerlerini 0 ve 1 olarak düzeltiyoruz. Aynı sebeple eğitim seviyesini de BS:0 MS:1 ve PhD:2 olarak güncelliyoruz. map() kullanarak boş hücreler veya geçersiz değer girilen hücreler NaN ile doldurulacaktır, buna şuandaki veri setimizde ihtiyacımız yok ama sizin ilerde yoğun veri ile çalıştığınız zaman ihtiyacınız olacaktır.\n"
   ]
  },
  {
   "cell_type": "code",
   "execution_count": 47,
   "id": "5d71086f-c6af-41c6-839e-6440f2cd56c7",
   "metadata": {},
   "outputs": [
    {
     "data": {
      "text/html": [
       "<div>\n",
       "<style scoped>\n",
       "    .dataframe tbody tr th:only-of-type {\n",
       "        vertical-align: middle;\n",
       "    }\n",
       "\n",
       "    .dataframe tbody tr th {\n",
       "        vertical-align: top;\n",
       "    }\n",
       "\n",
       "    .dataframe thead th {\n",
       "        text-align: right;\n",
       "    }\n",
       "</style>\n",
       "<table border=\"1\" class=\"dataframe\">\n",
       "  <thead>\n",
       "    <tr style=\"text-align: right;\">\n",
       "      <th></th>\n",
       "      <th>Deneyim Yili</th>\n",
       "      <th>SuanCalisiyor?</th>\n",
       "      <th>Eski Calistigi Firmalar</th>\n",
       "      <th>Egitim Seviyesi</th>\n",
       "      <th>Top10 Universite?</th>\n",
       "      <th>StajBizdeYaptimi?</th>\n",
       "      <th>IseAlindi</th>\n",
       "    </tr>\n",
       "  </thead>\n",
       "  <tbody>\n",
       "    <tr>\n",
       "      <th>0</th>\n",
       "      <td>11</td>\n",
       "      <td>1</td>\n",
       "      <td>4</td>\n",
       "      <td>0</td>\n",
       "      <td>0</td>\n",
       "      <td>0</td>\n",
       "      <td>1</td>\n",
       "    </tr>\n",
       "    <tr>\n",
       "      <th>1</th>\n",
       "      <td>0</td>\n",
       "      <td>0</td>\n",
       "      <td>0</td>\n",
       "      <td>2</td>\n",
       "      <td>1</td>\n",
       "      <td>1</td>\n",
       "      <td>1</td>\n",
       "    </tr>\n",
       "    <tr>\n",
       "      <th>2</th>\n",
       "      <td>5</td>\n",
       "      <td>1</td>\n",
       "      <td>2</td>\n",
       "      <td>1</td>\n",
       "      <td>0</td>\n",
       "      <td>1</td>\n",
       "      <td>1</td>\n",
       "    </tr>\n",
       "    <tr>\n",
       "      <th>3</th>\n",
       "      <td>3</td>\n",
       "      <td>0</td>\n",
       "      <td>1</td>\n",
       "      <td>0</td>\n",
       "      <td>0</td>\n",
       "      <td>1</td>\n",
       "      <td>1</td>\n",
       "    </tr>\n",
       "    <tr>\n",
       "      <th>4</th>\n",
       "      <td>0</td>\n",
       "      <td>0</td>\n",
       "      <td>0</td>\n",
       "      <td>0</td>\n",
       "      <td>0</td>\n",
       "      <td>0</td>\n",
       "      <td>0</td>\n",
       "    </tr>\n",
       "  </tbody>\n",
       "</table>\n",
       "</div>"
      ],
      "text/plain": [
       "   Deneyim Yili  SuanCalisiyor?  Eski Calistigi Firmalar  Egitim Seviyesi  \\\n",
       "0            11               1                        4                0   \n",
       "1             0               0                        0                2   \n",
       "2             5               1                        2                1   \n",
       "3             3               0                        1                0   \n",
       "4             0               0                        0                0   \n",
       "\n",
       "   Top10 Universite?  StajBizdeYaptimi?  IseAlindi  \n",
       "0                  0                  0          1  \n",
       "1                  1                  1          1  \n",
       "2                  0                  1          1  \n",
       "3                  0                  1          1  \n",
       "4                  0                  0          0  "
      ]
     },
     "execution_count": 47,
     "metadata": {},
     "output_type": "execute_result"
    }
   ],
   "source": [
    "duzeltme_mapping = {'Y': 1, 'N': 0}\n",
    "\n",
    "df['IseAlindi'] = df['IseAlindi'].map(duzeltme_mapping)\n",
    "df['SuanCalisiyor?'] = df['SuanCalisiyor?'].map(duzeltme_mapping)\n",
    "df['Top10 Universite?'] = df['Top10 Universite?'].map(duzeltme_mapping)\n",
    "df['StajBizdeYaptimi?'] = df['StajBizdeYaptimi?'].map(duzeltme_mapping)\n",
    "\n",
    "duzeltme_mapping_egitim = {'BS': 0, 'MS': 1, 'PhD': 2}\n",
    "df['Egitim Seviyesi'] = df['Egitim Seviyesi'].map(duzeltme_mapping_egitim)\n",
    "\n",
    "df.head()"
   ]
  },
  {
   "cell_type": "code",
   "execution_count": 73,
   "id": "283631a4-62f5-415e-8bbb-367fd2f6ab62",
   "metadata": {},
   "outputs": [],
   "source": [
    "y = df['IseAlindi']\n",
    "x = df.drop(['IseAlindi'], axis=1)"
   ]
  },
  {
   "cell_type": "code",
   "execution_count": 75,
   "id": "70eae6ad-6c9f-4265-809e-888edd87f436",
   "metadata": {},
   "outputs": [],
   "source": [
    "clf = tree.DecisionTreeClassifier()\n",
    "clf = clf.fit(x,y)"
   ]
  },
  {
   "cell_type": "code",
   "execution_count": 88,
   "id": "a11653dc-76bb-4da9-9c42-5452a9631c2a",
   "metadata": {},
   "outputs": [
    {
     "name": "stdout",
     "output_type": "stream",
     "text": [
      "[1]\n",
      "[0]\n"
     ]
    },
    {
     "name": "stderr",
     "output_type": "stream",
     "text": [
      "C:\\anaconda3\\Lib\\site-packages\\sklearn\\base.py:439: UserWarning: X does not have valid feature names, but DecisionTreeClassifier was fitted with feature names\n",
      "  warnings.warn(\n",
      "C:\\anaconda3\\Lib\\site-packages\\sklearn\\base.py:439: UserWarning: X does not have valid feature names, but DecisionTreeClassifier was fitted with feature names\n",
      "  warnings.warn(\n"
     ]
    }
   ],
   "source": [
    "# Prediction yapalım şimdi\n",
    "# 5 yıl deneyimli, hazlihazırda bir yerde çalışan ve 3 eski şirkette çalışmış olan, eğitim seviyesi Lisans\n",
    "# top-tier-school mezunu değil\n",
    "print (clf.predict([[5, 1, 3, 0, 0, 0]]))\n",
    "\n",
    "print (clf.predict([[0, 0, 1, 0, 0, 0]]))"
   ]
  },
  {
   "cell_type": "code",
   "execution_count": 90,
   "id": "fea33fa6-947d-4918-b834-83f98fd69a74",
   "metadata": {},
   "outputs": [
    {
     "name": "stdout",
     "output_type": "stream",
     "text": [
      "[0]\n"
     ]
    },
    {
     "name": "stderr",
     "output_type": "stream",
     "text": [
      "C:\\anaconda3\\Lib\\site-packages\\sklearn\\base.py:439: UserWarning: X does not have valid feature names, but DecisionTreeClassifier was fitted with feature names\n",
      "  warnings.warn(\n"
     ]
    }
   ],
   "source": [
    "# Toplam 2 yıllık iş deneyimi, 7 kez iş değiştirmiş çok iyi bir okul mezunu şuan çalışmıyor\n",
    "print (clf.predict([[2, 0, 7, 0, 1, 0]]))"
   ]
  },
  {
   "cell_type": "code",
   "execution_count": 92,
   "id": "2e5304fd-50ae-4371-abf3-deb881dbc490",
   "metadata": {},
   "outputs": [
    {
     "name": "stdout",
     "output_type": "stream",
     "text": [
      "[1]\n"
     ]
    },
    {
     "name": "stderr",
     "output_type": "stream",
     "text": [
      "C:\\anaconda3\\Lib\\site-packages\\sklearn\\base.py:439: UserWarning: X does not have valid feature names, but DecisionTreeClassifier was fitted with feature names\n",
      "  warnings.warn(\n"
     ]
    }
   ],
   "source": [
    "# Toplam 2 yıllık iş deneyimi, 7 kez iş değiştirmiş çok iyi bir okul mezunu değil şuan çalışıyor\n",
    "print (clf.predict([[2, 1, 7, 0, 0, 0]]))"
   ]
  },
  {
   "cell_type": "code",
   "execution_count": 94,
   "id": "70eacbc7-d2e4-4af0-a65b-8546c012c8d2",
   "metadata": {},
   "outputs": [
    {
     "name": "stdout",
     "output_type": "stream",
     "text": [
      "[1]\n"
     ]
    },
    {
     "name": "stderr",
     "output_type": "stream",
     "text": [
      "C:\\anaconda3\\Lib\\site-packages\\sklearn\\base.py:439: UserWarning: X does not have valid feature names, but DecisionTreeClassifier was fitted with feature names\n",
      "  warnings.warn(\n"
     ]
    }
   ],
   "source": [
    "# Toplam 20 yıllık iş deneyimi, 5 kez iş değiştirmiş iyi bir okul mezunu şuan çalışmıyor\n",
    "print (clf.predict([[20, 0, 5, 1, 1, 1]]))"
   ]
  },
  {
   "cell_type": "code",
   "execution_count": null,
   "id": "2b45210f-52f9-4810-a080-c7ef4ec81166",
   "metadata": {},
   "outputs": [],
   "source": []
  }
 ],
 "metadata": {
  "kernelspec": {
   "display_name": "Python 3 (ipykernel)",
   "language": "python",
   "name": "python3"
  },
  "language_info": {
   "codemirror_mode": {
    "name": "ipython",
    "version": 3
   },
   "file_extension": ".py",
   "mimetype": "text/x-python",
   "name": "python",
   "nbconvert_exporter": "python",
   "pygments_lexer": "ipython3",
   "version": "3.11.7"
  }
 },
 "nbformat": 4,
 "nbformat_minor": 5
}
