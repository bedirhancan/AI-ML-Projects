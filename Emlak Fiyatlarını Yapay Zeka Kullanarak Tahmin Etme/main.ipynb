{
 "cells": [
  {
   "cell_type": "code",
   "execution_count": 14,
   "id": "5e6a8ad7-ad60-4f9c-83e3-650fba5680d3",
   "metadata": {},
   "outputs": [],
   "source": [
    "import pandas as pd\n",
    "import matplotlib.pyplot as plt\n",
    "# sklearn library\n",
    "from sklearn import linear_model\n",
    "\n",
    "df = pd.read_csv(\"multilinearregression.csv\",sep = \";\")"
   ]
  },
  {
   "cell_type": "code",
   "execution_count": 16,
   "id": "c598817e-3016-4768-98c7-b15bf039b33e",
   "metadata": {},
   "outputs": [
    {
     "data": {
      "text/html": [
       "<div>\n",
       "<style scoped>\n",
       "    .dataframe tbody tr th:only-of-type {\n",
       "        vertical-align: middle;\n",
       "    }\n",
       "\n",
       "    .dataframe tbody tr th {\n",
       "        vertical-align: top;\n",
       "    }\n",
       "\n",
       "    .dataframe thead th {\n",
       "        text-align: right;\n",
       "    }\n",
       "</style>\n",
       "<table border=\"1\" class=\"dataframe\">\n",
       "  <thead>\n",
       "    <tr style=\"text-align: right;\">\n",
       "      <th></th>\n",
       "      <th>alan</th>\n",
       "      <th>odasayisi</th>\n",
       "      <th>binayasi</th>\n",
       "      <th>fiyat</th>\n",
       "    </tr>\n",
       "  </thead>\n",
       "  <tbody>\n",
       "    <tr>\n",
       "      <th>0</th>\n",
       "      <td>180</td>\n",
       "      <td>5</td>\n",
       "      <td>10</td>\n",
       "      <td>510000</td>\n",
       "    </tr>\n",
       "    <tr>\n",
       "      <th>1</th>\n",
       "      <td>225</td>\n",
       "      <td>4</td>\n",
       "      <td>18</td>\n",
       "      <td>508000</td>\n",
       "    </tr>\n",
       "    <tr>\n",
       "      <th>2</th>\n",
       "      <td>260</td>\n",
       "      <td>3</td>\n",
       "      <td>2</td>\n",
       "      <td>548000</td>\n",
       "    </tr>\n",
       "    <tr>\n",
       "      <th>3</th>\n",
       "      <td>320</td>\n",
       "      <td>6</td>\n",
       "      <td>10</td>\n",
       "      <td>650000</td>\n",
       "    </tr>\n",
       "    <tr>\n",
       "      <th>4</th>\n",
       "      <td>335</td>\n",
       "      <td>4</td>\n",
       "      <td>9</td>\n",
       "      <td>628000</td>\n",
       "    </tr>\n",
       "    <tr>\n",
       "      <th>5</th>\n",
       "      <td>345</td>\n",
       "      <td>5</td>\n",
       "      <td>14</td>\n",
       "      <td>632000</td>\n",
       "    </tr>\n",
       "    <tr>\n",
       "      <th>6</th>\n",
       "      <td>355</td>\n",
       "      <td>3</td>\n",
       "      <td>0</td>\n",
       "      <td>680000</td>\n",
       "    </tr>\n",
       "    <tr>\n",
       "      <th>7</th>\n",
       "      <td>400</td>\n",
       "      <td>4</td>\n",
       "      <td>10</td>\n",
       "      <td>725000</td>\n",
       "    </tr>\n",
       "  </tbody>\n",
       "</table>\n",
       "</div>"
      ],
      "text/plain": [
       "   alan  odasayisi  binayasi   fiyat\n",
       "0   180          5        10  510000\n",
       "1   225          4        18  508000\n",
       "2   260          3         2  548000\n",
       "3   320          6        10  650000\n",
       "4   335          4         9  628000\n",
       "5   345          5        14  632000\n",
       "6   355          3         0  680000\n",
       "7   400          4        10  725000"
      ]
     },
     "execution_count": 16,
     "metadata": {},
     "output_type": "execute_result"
    }
   ],
   "source": [
    "df"
   ]
  },
  {
   "cell_type": "code",
   "execution_count": 24,
   "id": "a05d0457-a754-49b2-a257-242bdc85a2f7",
   "metadata": {},
   "outputs": [
    {
     "name": "stderr",
     "output_type": "stream",
     "text": [
      "C:\\anaconda3\\Lib\\site-packages\\sklearn\\base.py:439: UserWarning: X does not have valid feature names, but LinearRegression was fitted with feature names\n",
      "  warnings.warn(\n"
     ]
    },
    {
     "data": {
      "text/plain": [
       "array([558597.7242505 , 530243.29284619, 658210.00129953])"
      ]
     },
     "execution_count": 24,
     "metadata": {},
     "output_type": "execute_result"
    }
   ],
   "source": [
    "# lineer regression modeli tanımlıyoruz:\n",
    "\n",
    "reg= linear_model.LinearRegression()\n",
    "reg.fit(df[['alan','odasayisi','binayasi']],df['fiyat'])\n",
    "\n",
    "# prediction yapalım\n",
    "\n",
    "reg.predict([[275,3,11],[230,4,10],[330,4,0]])"
   ]
  },
  {
   "cell_type": "code",
   "execution_count": 28,
   "id": "69d343f8-1ea6-49e5-a4ee-c49415c04838",
   "metadata": {},
   "outputs": [
    {
     "data": {
      "text/plain": [
       "array([ 1018.99865454, 14893.82374984, -2606.68429997])"
      ]
     },
     "execution_count": 28,
     "metadata": {},
     "output_type": "execute_result"
    }
   ],
   "source": [
    "reg.coef_"
   ]
  },
  {
   "cell_type": "code",
   "execution_count": 32,
   "id": "e889d04b-411d-4fe2-96b5-4e145a6f618d",
   "metadata": {},
   "outputs": [
    {
     "data": {
      "text/plain": [
       "262365.1503032055"
      ]
     },
     "execution_count": 32,
     "metadata": {},
     "output_type": "execute_result"
    }
   ],
   "source": [
    "reg.intercept_"
   ]
  },
  {
   "cell_type": "code",
   "execution_count": 48,
   "id": "7b71b4c7-e924-48f6-bdea-53e0f2e8c1bf",
   "metadata": {},
   "outputs": [
    {
     "data": {
      "text/plain": [
       "392086.59784748196"
      ]
     },
     "execution_count": 48,
     "metadata": {},
     "output_type": "execute_result"
    }
   ],
   "source": [
    "# Multiple linear regression formülümüze dönersek hatırlayalım:\n",
    "# y = a + b1X1 + b2X2 + b3X3 + ... formülümüzdü.\n",
    "\n",
    "a = reg.intercept_\n",
    "b1 = reg.coef_[0]\n",
    "b2 = reg.coef_[1]\n",
    "b3 = reg.coef_[2]\n",
    "\n",
    "x1 = 120\n",
    "x2 = 4\n",
    "x3 = 20\n",
    "\n",
    "y = a + b1*x1 + b2*x2 + b3*x3\n",
    "\n",
    "y"
   ]
  },
  {
   "cell_type": "code",
   "execution_count": null,
   "id": "43ce5005-b130-4ca1-bcf6-88240a2c00bc",
   "metadata": {},
   "outputs": [],
   "source": []
  }
 ],
 "metadata": {
  "kernelspec": {
   "display_name": "Python 3 (ipykernel)",
   "language": "python",
   "name": "python3"
  },
  "language_info": {
   "codemirror_mode": {
    "name": "ipython",
    "version": 3
   },
   "file_extension": ".py",
   "mimetype": "text/x-python",
   "name": "python",
   "nbconvert_exporter": "python",
   "pygments_lexer": "ipython3",
   "version": "3.11.7"
  }
 },
 "nbformat": 4,
 "nbformat_minor": 5
}
